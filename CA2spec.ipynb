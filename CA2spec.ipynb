{
 "cells": [
  {
   "cell_type": "markdown",
   "source": [
    "# Assignment 2 specification\n",
    "\n",
    "The purpose of this assignment is to analyse the Bike Sharing Dataset hosted on the UCI repository of datasets.\n",
    "\n",
    "The dataset is provided with this notebook as a zip file.\n",
    "\n",
    "There are two related datasets in the zip file: one aggregated by day, and the other aggregated by hour.\n",
    "\n",
    "They represent the number of bikes that were shared/hired in Washington over that time period, together with the factors that are believed to predict the demand for such bikes.\n",
    "\n",
    "They include the time unit and various measures of the weather etc. (in terms of temperature, humidity and wind-speed). More description can be found [here](https://archive.ics.uci.edu/ml/datasets/bike+sharing+dataset).\n",
    "\n",
    "You are asked to\n",
    "\n",
    "1. Read the _hourly_ data and split into training and test data __[5 marks]__\n",
    "2. For the training data only, use exploratory data analysis to learn about the data and to indicate how to build a model __[15 marks]__\n",
    "3. Using a forward selection approach, build a regression model that offers the best performance, using a machine learning measure (prediction accuracy on the test data) __[30 marks]__\n",
    "   - You need to pay particular attention to the regression model assumptions\n",
    "   - For best performance, you will also need to perform feature engineering\n",
    "     - modifying the existing features\n",
    "     - transforming them\n",
    "     - merging them\n",
    "     - keeping feature correlation as low as possible\n",
    "   - 10-fold cross-validation should be used to estimate the uncertainty in the fitted model parameters.\n",
    "4. Which of the 3 target columns is easiest to predict accurately? __[5 marks]__\n",
    "5. Using this \"preferred target\", derive a new target whose values are the grouped label (taking the values `Q1`, `Q2`, `Q3`, `Q4`) for demand in the quartiles (0 < demand <= 25th percentile of demand), (25th percentile of demand < demand <= 50th percentile of demand), .. You might find the [pandas quantile calculator](https://pandas.pydata.org/docs/reference/api/pandas.DataFrame.quantile.html) convenient when computing the quartile end points (25th, 50th and 75th percentiles), and pandas filtering by rows  convenient for assigning the new labels. __[5 marks]__\n",
    "6. Use _two_ classification procedures to predict these demand quartiles, repeating the forward selection procedure to find the best model for each, but this time focusing on classification accuracy on the test set as the measure of performance. Are the same features used in each of the two models? __[35 marks]__\n",
    "7. Which of the two machine learning procedures (regression and classification) provides the highest prediction accuracy on the test set? Why is this? __[5 marks]__"
   ],
   "metadata": {
    "collapsed": false
   }
  },
  {
   "cell_type": "markdown",
   "id": "8833ad10",
   "metadata": {},
   "source": [
    "# Task 1: Read the _hourly_ data and split into training and test data."
   ]
  },
  {
   "cell_type": "markdown",
   "id": "c5377fa4",
   "metadata": {},
   "source": [
    "##Start of Answer 1##"
   ]
  },
  {
   "cell_type": "code",
   "execution_count": 66,
   "id": "deb3b224",
   "metadata": {},
   "outputs": [],
   "source": [
    "import numpy as np # linear algebra\n",
    "import pandas as pd # data processing, CSV file I/O (e.g. pd.read_csv)\n",
    "\n",
    "import matplotlib.pyplot as plt\n",
    "\n",
    "# We can override the default matplotlib styles with those of Seaborn\n",
    "import seaborn as sns\n",
    "import phik\n",
    "from sklearn.metrics import accuracy_score\n",
    "from phik.report import plot_correlation_matrix\n",
    "from phik import report\n",
    "\n",
    "sns.set()"
   ]
  },
  {
   "cell_type": "code",
   "execution_count": 67,
   "outputs": [
    {
     "data": {
      "text/plain": "   instant      dteday  season  yr  mnth  hr  holiday  weekday  workingday  \\\n0        1  2011-01-01       1   0     1   0        0        6           0   \n1        2  2011-01-01       1   0     1   1        0        6           0   \n2        3  2011-01-01       1   0     1   2        0        6           0   \n3        4  2011-01-01       1   0     1   3        0        6           0   \n4        5  2011-01-01       1   0     1   4        0        6           0   \n5        6  2011-01-01       1   0     1   5        0        6           0   \n6        7  2011-01-01       1   0     1   6        0        6           0   \n7        8  2011-01-01       1   0     1   7        0        6           0   \n8        9  2011-01-01       1   0     1   8        0        6           0   \n9       10  2011-01-01       1   0     1   9        0        6           0   \n\n   weathersit  temp   atemp   hum  windspeed  casual  registered  cnt  \n0           1  0.24  0.2879  0.81     0.0000       3          13   16  \n1           1  0.22  0.2727  0.80     0.0000       8          32   40  \n2           1  0.22  0.2727  0.80     0.0000       5          27   32  \n3           1  0.24  0.2879  0.75     0.0000       3          10   13  \n4           1  0.24  0.2879  0.75     0.0000       0           1    1  \n5           2  0.24  0.2576  0.75     0.0896       0           1    1  \n6           1  0.22  0.2727  0.80     0.0000       2           0    2  \n7           1  0.20  0.2576  0.86     0.0000       1           2    3  \n8           1  0.24  0.2879  0.75     0.0000       1           7    8  \n9           1  0.32  0.3485  0.76     0.0000       8           6   14  ",
      "text/html": "<div>\n<style scoped>\n    .dataframe tbody tr th:only-of-type {\n        vertical-align: middle;\n    }\n\n    .dataframe tbody tr th {\n        vertical-align: top;\n    }\n\n    .dataframe thead th {\n        text-align: right;\n    }\n</style>\n<table border=\"1\" class=\"dataframe\">\n  <thead>\n    <tr style=\"text-align: right;\">\n      <th></th>\n      <th>instant</th>\n      <th>dteday</th>\n      <th>season</th>\n      <th>yr</th>\n      <th>mnth</th>\n      <th>hr</th>\n      <th>holiday</th>\n      <th>weekday</th>\n      <th>workingday</th>\n      <th>weathersit</th>\n      <th>temp</th>\n      <th>atemp</th>\n      <th>hum</th>\n      <th>windspeed</th>\n      <th>casual</th>\n      <th>registered</th>\n      <th>cnt</th>\n    </tr>\n  </thead>\n  <tbody>\n    <tr>\n      <th>0</th>\n      <td>1</td>\n      <td>2011-01-01</td>\n      <td>1</td>\n      <td>0</td>\n      <td>1</td>\n      <td>0</td>\n      <td>0</td>\n      <td>6</td>\n      <td>0</td>\n      <td>1</td>\n      <td>0.24</td>\n      <td>0.2879</td>\n      <td>0.81</td>\n      <td>0.0000</td>\n      <td>3</td>\n      <td>13</td>\n      <td>16</td>\n    </tr>\n    <tr>\n      <th>1</th>\n      <td>2</td>\n      <td>2011-01-01</td>\n      <td>1</td>\n      <td>0</td>\n      <td>1</td>\n      <td>1</td>\n      <td>0</td>\n      <td>6</td>\n      <td>0</td>\n      <td>1</td>\n      <td>0.22</td>\n      <td>0.2727</td>\n      <td>0.80</td>\n      <td>0.0000</td>\n      <td>8</td>\n      <td>32</td>\n      <td>40</td>\n    </tr>\n    <tr>\n      <th>2</th>\n      <td>3</td>\n      <td>2011-01-01</td>\n      <td>1</td>\n      <td>0</td>\n      <td>1</td>\n      <td>2</td>\n      <td>0</td>\n      <td>6</td>\n      <td>0</td>\n      <td>1</td>\n      <td>0.22</td>\n      <td>0.2727</td>\n      <td>0.80</td>\n      <td>0.0000</td>\n      <td>5</td>\n      <td>27</td>\n      <td>32</td>\n    </tr>\n    <tr>\n      <th>3</th>\n      <td>4</td>\n      <td>2011-01-01</td>\n      <td>1</td>\n      <td>0</td>\n      <td>1</td>\n      <td>3</td>\n      <td>0</td>\n      <td>6</td>\n      <td>0</td>\n      <td>1</td>\n      <td>0.24</td>\n      <td>0.2879</td>\n      <td>0.75</td>\n      <td>0.0000</td>\n      <td>3</td>\n      <td>10</td>\n      <td>13</td>\n    </tr>\n    <tr>\n      <th>4</th>\n      <td>5</td>\n      <td>2011-01-01</td>\n      <td>1</td>\n      <td>0</td>\n      <td>1</td>\n      <td>4</td>\n      <td>0</td>\n      <td>6</td>\n      <td>0</td>\n      <td>1</td>\n      <td>0.24</td>\n      <td>0.2879</td>\n      <td>0.75</td>\n      <td>0.0000</td>\n      <td>0</td>\n      <td>1</td>\n      <td>1</td>\n    </tr>\n    <tr>\n      <th>5</th>\n      <td>6</td>\n      <td>2011-01-01</td>\n      <td>1</td>\n      <td>0</td>\n      <td>1</td>\n      <td>5</td>\n      <td>0</td>\n      <td>6</td>\n      <td>0</td>\n      <td>2</td>\n      <td>0.24</td>\n      <td>0.2576</td>\n      <td>0.75</td>\n      <td>0.0896</td>\n      <td>0</td>\n      <td>1</td>\n      <td>1</td>\n    </tr>\n    <tr>\n      <th>6</th>\n      <td>7</td>\n      <td>2011-01-01</td>\n      <td>1</td>\n      <td>0</td>\n      <td>1</td>\n      <td>6</td>\n      <td>0</td>\n      <td>6</td>\n      <td>0</td>\n      <td>1</td>\n      <td>0.22</td>\n      <td>0.2727</td>\n      <td>0.80</td>\n      <td>0.0000</td>\n      <td>2</td>\n      <td>0</td>\n      <td>2</td>\n    </tr>\n    <tr>\n      <th>7</th>\n      <td>8</td>\n      <td>2011-01-01</td>\n      <td>1</td>\n      <td>0</td>\n      <td>1</td>\n      <td>7</td>\n      <td>0</td>\n      <td>6</td>\n      <td>0</td>\n      <td>1</td>\n      <td>0.20</td>\n      <td>0.2576</td>\n      <td>0.86</td>\n      <td>0.0000</td>\n      <td>1</td>\n      <td>2</td>\n      <td>3</td>\n    </tr>\n    <tr>\n      <th>8</th>\n      <td>9</td>\n      <td>2011-01-01</td>\n      <td>1</td>\n      <td>0</td>\n      <td>1</td>\n      <td>8</td>\n      <td>0</td>\n      <td>6</td>\n      <td>0</td>\n      <td>1</td>\n      <td>0.24</td>\n      <td>0.2879</td>\n      <td>0.75</td>\n      <td>0.0000</td>\n      <td>1</td>\n      <td>7</td>\n      <td>8</td>\n    </tr>\n    <tr>\n      <th>9</th>\n      <td>10</td>\n      <td>2011-01-01</td>\n      <td>1</td>\n      <td>0</td>\n      <td>1</td>\n      <td>9</td>\n      <td>0</td>\n      <td>6</td>\n      <td>0</td>\n      <td>1</td>\n      <td>0.32</td>\n      <td>0.3485</td>\n      <td>0.76</td>\n      <td>0.0000</td>\n      <td>8</td>\n      <td>6</td>\n      <td>14</td>\n    </tr>\n  </tbody>\n</table>\n</div>"
     },
     "execution_count": 67,
     "metadata": {},
     "output_type": "execute_result"
    }
   ],
   "source": [
    "hour_data = pd.read_csv('Bike-sharing-dataset/hour.csv')\n",
    "hour_data.head(10)"
   ],
   "metadata": {
    "collapsed": false
   }
  },
  {
   "cell_type": "code",
   "execution_count": 68,
   "outputs": [],
   "source": [
    "from sklearn.model_selection import train_test_split\n",
    "\n",
    "# Asign variable to features\n",
    "# Asign variables to targets\n",
    "\n",
    "targets = hour_data[['casual', 'registered', 'cnt']]\n",
    "features = hour_data.drop(targets, axis=1)\n",
    "\n",
    "xtrain, xtest, ytrain, ytest = train_test_split(features, targets, test_size=0.2)"
   ],
   "metadata": {
    "collapsed": false
   }
  },
  {
   "cell_type": "markdown",
   "id": "ffc9c56f",
   "metadata": {},
   "source": [
    "##End of Answer 1##"
   ]
  },
  {
   "cell_type": "markdown",
   "id": "50a47f6d",
   "metadata": {},
   "source": [
    "# Task 2: For the training data only, use exploratory data analysis to learn about the data and to indicate how to build a model"
   ]
  },
  {
   "cell_type": "markdown",
   "id": "37896da0",
   "metadata": {},
   "source": [
    "##Start of Answer 2##"
   ]
  },
  {
   "cell_type": "code",
   "execution_count": 69,
   "id": "acf3618c",
   "metadata": {},
   "outputs": [
    {
     "name": "stdout",
     "output_type": "stream",
     "text": [
      "<class 'pandas.core.frame.DataFrame'>\n",
      "RangeIndex: 17379 entries, 0 to 17378\n",
      "Data columns (total 17 columns):\n",
      " #   Column      Non-Null Count  Dtype  \n",
      "---  ------      --------------  -----  \n",
      " 0   instant     17379 non-null  int64  \n",
      " 1   dteday      17379 non-null  object \n",
      " 2   season      17379 non-null  int64  \n",
      " 3   yr          17379 non-null  int64  \n",
      " 4   mnth        17379 non-null  int64  \n",
      " 5   hr          17379 non-null  int64  \n",
      " 6   holiday     17379 non-null  int64  \n",
      " 7   weekday     17379 non-null  int64  \n",
      " 8   workingday  17379 non-null  int64  \n",
      " 9   weathersit  17379 non-null  int64  \n",
      " 10  temp        17379 non-null  float64\n",
      " 11  atemp       17379 non-null  float64\n",
      " 12  hum         17379 non-null  float64\n",
      " 13  windspeed   17379 non-null  float64\n",
      " 14  casual      17379 non-null  int64  \n",
      " 15  registered  17379 non-null  int64  \n",
      " 16  cnt         17379 non-null  int64  \n",
      "dtypes: float64(4), int64(12), object(1)\n",
      "memory usage: 2.3+ MB\n"
     ]
    }
   ],
   "source": [
    "hour_data.info()"
   ]
  },
  {
   "cell_type": "code",
   "execution_count": 70,
   "outputs": [
    {
     "ename": "NameError",
     "evalue": "name 'df' is not defined",
     "output_type": "error",
     "traceback": [
      "\u001B[1;31m---------------------------------------------------------------------------\u001B[0m",
      "\u001B[1;31mNameError\u001B[0m                                 Traceback (most recent call last)",
      "Input \u001B[1;32mIn [70]\u001B[0m, in \u001B[0;36m<cell line: 1>\u001B[1;34m()\u001B[0m\n\u001B[1;32m----> 1\u001B[0m sns\u001B[38;5;241m.\u001B[39mheatmap(\u001B[43mdf\u001B[49m\u001B[38;5;241m.\u001B[39mcorr())\n",
      "\u001B[1;31mNameError\u001B[0m: name 'df' is not defined"
     ]
    }
   ],
   "source": [
    "sns.heatmap(df.corr())"
   ],
   "metadata": {
    "collapsed": false
   }
  },
  {
   "cell_type": "markdown",
   "source": [
    "Here in this heatmap we can see that there's quite a lot of correlations going on here. The more data we have correlating he harder it's going to be to mkae our prediction down the line. So we're gonna try thin it out a bit and make this data all more efficient."
   ],
   "metadata": {
    "collapsed": false
   }
  },
  {
   "cell_type": "code",
   "execution_count": 71,
   "outputs": [],
   "source": [
    "features.drop(['dteday','workingday','atemp', 'season', 'instant' ], axis=1, inplace=True)"
   ],
   "metadata": {
    "collapsed": false
   }
  },
  {
   "cell_type": "code",
   "execution_count": 72,
   "outputs": [
    {
     "name": "stdout",
     "output_type": "stream",
     "text": [
      "interval columns not set, guessing: ['yr', 'mnth', 'hr', 'holiday', 'weekday', 'weathersit', 'temp', 'hum', 'windspeed']\n"
     ]
    }
   ],
   "source": [
    "phik = features.phik_matrix()"
   ],
   "metadata": {
    "collapsed": false
   }
  },
  {
   "cell_type": "code",
   "execution_count": 73,
   "outputs": [
    {
     "data": {
      "text/plain": "   yr  mnth  hr  holiday  weekday  weathersit  temp   hum  windspeed\n0   0     1   0        0        6           1  0.24  0.81        0.0\n1   0     1   1        0        6           1  0.22  0.80        0.0\n2   0     1   2        0        6           1  0.22  0.80        0.0\n3   0     1   3        0        6           1  0.24  0.75        0.0\n4   0     1   4        0        6           1  0.24  0.75        0.0",
      "text/html": "<div>\n<style scoped>\n    .dataframe tbody tr th:only-of-type {\n        vertical-align: middle;\n    }\n\n    .dataframe tbody tr th {\n        vertical-align: top;\n    }\n\n    .dataframe thead th {\n        text-align: right;\n    }\n</style>\n<table border=\"1\" class=\"dataframe\">\n  <thead>\n    <tr style=\"text-align: right;\">\n      <th></th>\n      <th>yr</th>\n      <th>mnth</th>\n      <th>hr</th>\n      <th>holiday</th>\n      <th>weekday</th>\n      <th>weathersit</th>\n      <th>temp</th>\n      <th>hum</th>\n      <th>windspeed</th>\n    </tr>\n  </thead>\n  <tbody>\n    <tr>\n      <th>0</th>\n      <td>0</td>\n      <td>1</td>\n      <td>0</td>\n      <td>0</td>\n      <td>6</td>\n      <td>1</td>\n      <td>0.24</td>\n      <td>0.81</td>\n      <td>0.0</td>\n    </tr>\n    <tr>\n      <th>1</th>\n      <td>0</td>\n      <td>1</td>\n      <td>1</td>\n      <td>0</td>\n      <td>6</td>\n      <td>1</td>\n      <td>0.22</td>\n      <td>0.80</td>\n      <td>0.0</td>\n    </tr>\n    <tr>\n      <th>2</th>\n      <td>0</td>\n      <td>1</td>\n      <td>2</td>\n      <td>0</td>\n      <td>6</td>\n      <td>1</td>\n      <td>0.22</td>\n      <td>0.80</td>\n      <td>0.0</td>\n    </tr>\n    <tr>\n      <th>3</th>\n      <td>0</td>\n      <td>1</td>\n      <td>3</td>\n      <td>0</td>\n      <td>6</td>\n      <td>1</td>\n      <td>0.24</td>\n      <td>0.75</td>\n      <td>0.0</td>\n    </tr>\n    <tr>\n      <th>4</th>\n      <td>0</td>\n      <td>1</td>\n      <td>4</td>\n      <td>0</td>\n      <td>6</td>\n      <td>1</td>\n      <td>0.24</td>\n      <td>0.75</td>\n      <td>0.0</td>\n    </tr>\n  </tbody>\n</table>\n</div>"
     },
     "execution_count": 73,
     "metadata": {},
     "output_type": "execute_result"
    }
   ],
   "source": [
    "features.head()"
   ],
   "metadata": {
    "collapsed": false
   }
  },
  {
   "cell_type": "code",
   "execution_count": 74,
   "outputs": [
    {
     "data": {
      "text/plain": "<AxesSubplot:>"
     },
     "execution_count": 74,
     "metadata": {},
     "output_type": "execute_result"
    },
    {
     "data": {
      "text/plain": "<Figure size 432x288 with 2 Axes>",
      "image/png": "[encoded data removed]"
     },
     "metadata": {},
     "output_type": "display_data"
    }
   ],
   "source": [
    "sns.heatmap(phik)"
   ],
   "metadata": {
    "collapsed": false
   }
  },
  {
   "cell_type": "markdown",
   "source": [
    "Here we can see from this heatmap a much clearer diagram of whats correlated to which without all of the uneccessary features"
   ],
   "metadata": {
    "collapsed": false
   }
  },
  {
   "cell_type": "markdown",
   "source": [
    "Reason for dropping each feature:\n",
    "\n",
    "dteday: The reason why I dropped dteday was because it had a high correlation with a few other features such as yr, month, holiday and a couple of others. Keeping it would have made more difficult to accurately predict so for that reason it was dropped.\n",
    "\n",
    "\n",
    "workingday: This feature was dropped because it was highly correlated with multiple features but especially holiday and weekday. I think weekday and working day are very similar because the vast majority of people who work will work on a weekday so to me it makes no sense in keeping both weekday and workingday so it's better off to get rid of one of them. It's obviously quite clear to see that people wouldn't be using bikes much during working days because they'd be busy in work themselves so it's pretty self explanitory. Not to mention how it would make the prediction harder in general.\n",
    "\n",
    "atemp: The main reason why I dropped atemp was because it highly correlated with temp, because they're so similar it doesn't make enough sense to keep both of them. Trimming features like thise down will make the prediction easier and will save time. It's also quite correlated with season which is pretty self explanitory considering that the temperature will be higher in hotter seasons and lower in colder seasons. This means there's more people out cycling in the hotter seasons due to better weather.\n",
    "\n",
    "season: This feature nearly had to be dropped due to it's very high correlation with too many features, such as mnth, temp, atemp, yr and a few more. It's uneccessary to keep considering we have mnth and temp. It's pretty obvious to know that the activity of bikes being used will be higher in months where there's a higher temperature. I definetely think that these two features make season uneccesary to have. It was also dropped due to how it would make our prediction uneccesarily hard.\n",
    "\n",
    "instant: I dropped this feature because it was highly correlated with season, ty, mnth, temp and atemp. This once again would make our prediction uneccesarily hard. Not having would just be easier and working without it really doesn't change much because the reasons it's correlated with those feature so highly is again for reasons I stated above mainly due to the time of year and temeratures rising.\n",
    "\n"
   ],
   "metadata": {
    "collapsed": false
   }
  },
  {
   "cell_type": "code",
   "execution_count": 75,
   "outputs": [
    {
     "data": {
      "text/plain": "<AxesSubplot:xlabel='count', ylabel='holiday'>"
     },
     "execution_count": 75,
     "metadata": {},
     "output_type": "execute_result"
    },
    {
     "data": {
      "text/plain": "<Figure size 432x288 with 1 Axes>",
      "image/png": "[encoded data removed]"
     },
     "metadata": {},
     "output_type": "display_data"
    }
   ],
   "source": [
    "sns.countplot(y='holiday', data=features, color='purple')"
   ],
   "metadata": {
    "collapsed": false
   }
  },
  {
   "cell_type": "markdown",
   "source": [
    "This plot shows the amount of people using bikes on a holiday and when it's not a holiday. As we can see the bikes are used a lot more on days that aren't a holiday. This makes sense because there's obviously more days in the year that are not holidays by quite some margin. This for me explains the huge difference in numbers."
   ],
   "metadata": {
    "collapsed": false
   }
  },
  {
   "cell_type": "code",
   "execution_count": 76,
   "outputs": [
    {
     "data": {
      "text/plain": "<seaborn.axisgrid.FacetGrid at 0x2171c7913a0>"
     },
     "execution_count": 76,
     "metadata": {},
     "output_type": "execute_result"
    },
    {
     "data": {
      "text/plain": "<Figure size 360x360 with 1 Axes>",
      "image/png": "[encoded data removed]"
     },
     "metadata": {},
     "output_type": "display_data"
    }
   ],
   "source": [
    "sns.displot(features, x=\"weathersit\")"
   ],
   "metadata": {
    "collapsed": false
   }
  },
  {
   "cell_type": "markdown",
   "source": [
    "This plot is representing the type of weather that's happening and how that effects the amount of people outside cycling. 1 is clear, few clouds and partly cloudy so this is the best weather that can be asked for, therefore of course there will be more people cycling when the weathr is like that. The higher the number the worse the weather gets.\n",
    "\n",
    "2 is Mist + Cloudy, Mist + Broken clouds, Mist + Few clouds, Mist, This weather isn't great but still not that bad when you're talking about cycling so therefore the number of people will obviously react to that and possibly wait for a day time that the weather is better\n",
    "\n",
    "3 is worse weather once again it contains Light Snow, Light Rain + Thunderstorm + Scattered clouds, Light Rain + Scattered clouds. If there's weather like this then of course less people will be cycling because they wouldn't want to get wet or perhaps worse. Therefore there's another vast drop in people cycling."
   ],
   "metadata": {
    "collapsed": false
   }
  },
  {
   "cell_type": "code",
   "execution_count": 77,
   "outputs": [
    {
     "data": {
      "text/plain": "<AxesSubplot:xlabel='count', ylabel='yr'>"
     },
     "execution_count": 77,
     "metadata": {},
     "output_type": "execute_result"
    },
    {
     "data": {
      "text/plain": "<Figure size 432x288 with 1 Axes>",
      "image/png": "[encoded data removed]"
     },
     "metadata": {},
     "output_type": "display_data"
    }
   ],
   "source": [
    "sns.countplot(y='yr', data=features, color='purple')"
   ],
   "metadata": {
    "collapsed": false
   }
  },
  {
   "cell_type": "markdown",
   "source": [
    "Looking at these 2 years that were judged against each other they obviously had quite similar numbers in terms of people using bikes. This tells me that factors such as weather, holidays and more were by average the same. This makes perfect sense that there may have been a slight increase as well due to more people knowing about how fun and efficient cycling is."
   ],
   "metadata": {
    "collapsed": false
   }
  },
  {
   "cell_type": "code",
   "execution_count": 78,
   "outputs": [
    {
     "data": {
      "text/plain": "<seaborn.axisgrid.FacetGrid at 0x2171b321e80>"
     },
     "execution_count": 78,
     "metadata": {},
     "output_type": "execute_result"
    },
    {
     "data": {
      "text/plain": "<Figure size 360x360 with 1 Axes>",
      "image/png": "[encoded data removed]"
     },
     "metadata": {},
     "output_type": "display_data"
    }
   ],
   "source": [
    "sns.displot(features, x=\"hum\")"
   ],
   "metadata": {
    "collapsed": false
   }
  },
  {
   "cell_type": "markdown",
   "source": [
    "This plot represents the amount of people cycling based on the level of humidity. This is quite interesting because it's the first plot we've seen that has has a drop off in numbers of people cycling at both ends of the spectrum. First of all we'll look at the lower end.\n",
    "\n",
    "Usually when the weather is rainy/wet and cold the level of humidity is very low this shows in the plot above on the lower end of the spectrum.\n",
    "\n",
    "When we hit the mid 0.4 - 0.8 ish mark there's a vast increase in the amount of people out cyclyng because the weather is much better usually when you have slight higher humidity, it means with higher temperature the air is thinner slightly this is why there's more people out cycling.\n",
    "\n",
    "Interestingly enough the the top end of the spectrum for humidity there's a drop off in people cycling. This tells me that it's actually too hot to be out cycling and people are perhaps looking for easier ways to travel by not exerting themselves when it's to hot. This makes sense and shows clearly in the plot."
   ],
   "metadata": {
    "collapsed": false
   }
  },
  {
   "cell_type": "code",
   "execution_count": 79,
   "outputs": [
    {
     "data": {
      "text/plain": "<AxesSubplot:xlabel='mnth', ylabel='temp'>"
     },
     "execution_count": 79,
     "metadata": {},
     "output_type": "execute_result"
    },
    {
     "data": {
      "text/plain": "<Figure size 432x288 with 1 Axes>",
      "image/png": "[encoded data removed]"
     },
     "metadata": {},
     "output_type": "display_data"
    }
   ],
   "source": [
    "sns.barplot(x='mnth', y='temp', data=features, ci=None)"
   ],
   "metadata": {
    "collapsed": false
   }
  },
  {
   "cell_type": "markdown",
   "source": [
    "This diagram represents the influx in temperature depending on the month. As we can see in the summer months in june, July and August the temperature it at it's peak. And in the winter months in January,February and Decenmber is when the temperature is at it's lowest. From the previous plots before I'm sure there was an influx in people cycling in these warmer months and visa versa being a lot less people cycling in the colder months."
   ],
   "metadata": {
    "collapsed": false
   }
  },
  {
   "cell_type": "code",
   "execution_count": 80,
   "outputs": [
    {
     "data": {
      "text/plain": "<seaborn.axisgrid.FacetGrid at 0x2171c5b5c10>"
     },
     "execution_count": 80,
     "metadata": {},
     "output_type": "execute_result"
    },
    {
     "data": {
      "text/plain": "<Figure size 360x360 with 1 Axes>",
      "image/png": "[encoded data removed]"
     },
     "metadata": {},
     "output_type": "display_data"
    }
   ],
   "source": [
    "sns.displot(features, x=\"windspeed\")"
   ],
   "metadata": {
    "collapsed": false
   }
  },
  {
   "cell_type": "markdown",
   "source": [
    "Having a low windspeed will have a big impact on the amount of people out cycling. If there's high winds then it could end up being dangerous to cycle in it. Therefore less people would be cycling then. We can clearly see when there's virtual no high winds that a lot of people are cycling. This tells me that the weather report will be a big determination on how many bikes need to be available at this time. Perhaps more need to be prepared prior because of the higher demand."
   ],
   "metadata": {
    "collapsed": false
   }
  },
  {
   "cell_type": "code",
   "execution_count": 81,
   "outputs": [
    {
     "data": {
      "text/plain": "<AxesSubplot:xlabel='hr', ylabel='temp'>"
     },
     "execution_count": 81,
     "metadata": {},
     "output_type": "execute_result"
    },
    {
     "data": {
      "text/plain": "<Figure size 432x288 with 1 Axes>",
      "image/png": "[encoded data removed]"
     },
     "metadata": {},
     "output_type": "display_data"
    }
   ],
   "source": [
    "sns.barplot(x='hr', y='temp', data=features, ci=None)"
   ],
   "metadata": {
    "collapsed": false
   }
  },
  {
   "cell_type": "markdown",
   "source": [
    "As we can see there is a rise in activity of people using bikes arounf the 9am point, this can also be down to peple using them to commute to work and keeping this in mind they probably use the bikes to commute home as well this is why it's still a high vale at 5-6 pm. This is why it would also taper off more in the later hours cause usually people would prefer spending their evenings at home."
   ],
   "metadata": {
    "collapsed": false
   }
  },
  {
   "cell_type": "markdown",
   "source": [],
   "metadata": {
    "collapsed": false
   }
  },
  {
   "cell_type": "markdown",
   "source": [],
   "metadata": {
    "collapsed": false
   }
  },
  {
   "cell_type": "code",
   "execution_count": 82,
   "outputs": [
    {
     "data": {
      "text/plain": "<seaborn.axisgrid.FacetGrid at 0x2171c92a700>"
     },
     "execution_count": 82,
     "metadata": {},
     "output_type": "execute_result"
    },
    {
     "data": {
      "text/plain": "<Figure size 411.85x360 with 1 Axes>",
      "image/png": "[encoded data removed]"
     },
     "metadata": {},
     "output_type": "display_data"
    }
   ],
   "source": [
    "sns.catplot(data=features, x=\"holiday\", y=\"temp\", hue=\"mnth\", kind=\"bar\")"
   ],
   "metadata": {
    "collapsed": false
   }
  },
  {
   "cell_type": "markdown",
   "source": [
    "This plot is a bit combination of a few features that would determine the number of cyclists in a given year. To mention an above plot once again the temperature is often being determined by the month it's in. The hotter months will be in the summer and the colder months will be in the winter, this will all have an effect on the amount of people cycling and the demand involved.\n",
    "\n",
    "We can also see that in some months there are no holidays at all. This may have an effect on the amount of people cycling. This plot also tells us that even though in months where there are holidays it doesn't really effect the amount of people cycling so it's not at the top of the priority list in determining factors."
   ],
   "metadata": {
    "collapsed": false
   }
  },
  {
   "cell_type": "code",
   "execution_count": 83,
   "outputs": [
    {
     "data": {
      "text/plain": "   yr  mnth  hr  holiday  weekday  weathersit  temp   hum  windspeed\n0   0     1   0        0        6           1  0.24  0.81        0.0\n1   0     1   1        0        6           1  0.22  0.80        0.0\n2   0     1   2        0        6           1  0.22  0.80        0.0\n3   0     1   3        0        6           1  0.24  0.75        0.0\n4   0     1   4        0        6           1  0.24  0.75        0.0",
      "text/html": "<div>\n<style scoped>\n    .dataframe tbody tr th:only-of-type {\n        vertical-align: middle;\n    }\n\n    .dataframe tbody tr th {\n        vertical-align: top;\n    }\n\n    .dataframe thead th {\n        text-align: right;\n    }\n</style>\n<table border=\"1\" class=\"dataframe\">\n  <thead>\n    <tr style=\"text-align: right;\">\n      <th></th>\n      <th>yr</th>\n      <th>mnth</th>\n      <th>hr</th>\n      <th>holiday</th>\n      <th>weekday</th>\n      <th>weathersit</th>\n      <th>temp</th>\n      <th>hum</th>\n      <th>windspeed</th>\n    </tr>\n  </thead>\n  <tbody>\n    <tr>\n      <th>0</th>\n      <td>0</td>\n      <td>1</td>\n      <td>0</td>\n      <td>0</td>\n      <td>6</td>\n      <td>1</td>\n      <td>0.24</td>\n      <td>0.81</td>\n      <td>0.0</td>\n    </tr>\n    <tr>\n      <th>1</th>\n      <td>0</td>\n      <td>1</td>\n      <td>1</td>\n      <td>0</td>\n      <td>6</td>\n      <td>1</td>\n      <td>0.22</td>\n      <td>0.80</td>\n      <td>0.0</td>\n    </tr>\n    <tr>\n      <th>2</th>\n      <td>0</td>\n      <td>1</td>\n      <td>2</td>\n      <td>0</td>\n      <td>6</td>\n      <td>1</td>\n      <td>0.22</td>\n      <td>0.80</td>\n      <td>0.0</td>\n    </tr>\n    <tr>\n      <th>3</th>\n      <td>0</td>\n      <td>1</td>\n      <td>3</td>\n      <td>0</td>\n      <td>6</td>\n      <td>1</td>\n      <td>0.24</td>\n      <td>0.75</td>\n      <td>0.0</td>\n    </tr>\n    <tr>\n      <th>4</th>\n      <td>0</td>\n      <td>1</td>\n      <td>4</td>\n      <td>0</td>\n      <td>6</td>\n      <td>1</td>\n      <td>0.24</td>\n      <td>0.75</td>\n      <td>0.0</td>\n    </tr>\n  </tbody>\n</table>\n</div>"
     },
     "execution_count": 83,
     "metadata": {},
     "output_type": "execute_result"
    }
   ],
   "source": [
    "features.head()"
   ],
   "metadata": {
    "collapsed": false
   }
  },
  {
   "cell_type": "markdown",
   "source": [
    "# EDA Conclusion\n"
   ],
   "metadata": {
    "collapsed": false
   },
   "execution_count": 1
  },
  {
   "cell_type": "markdown",
   "source": [
    "Through exploratory data analysis we got to investigate what features would make our prediction easier and which would make it harder. Getting rid of high correlated features would give us a cleaner and easier way of doing it. It was decided to remove unessacry features that were similar in meaning and purpose to already existing ones. This will make it easier to get our predictions later."
   ],
   "metadata": {
    "collapsed": false
   }
  },
  {
   "cell_type": "markdown",
   "source": [],
   "metadata": {
    "collapsed": false
   }
  },
  {
   "cell_type": "markdown",
   "id": "f7c75093",
   "metadata": {},
   "source": [
    "##End of Answer 2##"
   ]
  },
  {
   "cell_type": "markdown",
   "id": "aa5663bb",
   "metadata": {},
   "source": [
    "# Task 3: Using a forward selection approach, build a regression model that offers the best performance"
   ]
  },
  {
   "cell_type": "markdown",
   "id": "0d3cf317",
   "metadata": {},
   "source": [
    "##Start of Answer 3##"
   ]
  },
  {
   "cell_type": "code",
   "execution_count": 84,
   "id": "1bcf0397",
   "metadata": {},
   "outputs": [],
   "source": [
    "xtrain.drop(['dteday','workingday','atemp', 'season', 'instant' ], axis=1, inplace=True)"
   ]
  },
  {
   "cell_type": "code",
   "execution_count": 85,
   "outputs": [],
   "source": [
    "xtest.drop(['dteday','workingday','atemp', 'season', 'instant' ], axis=1, inplace=True)"
   ],
   "metadata": {
    "collapsed": false
   }
  },
  {
   "cell_type": "markdown",
   "source": [
    "I decided to drop the same features as I did before for similar enough reasons as to the last task. The correlation were slightly too high in these feature and to be able to get a accurate prediction as we'll perform below they need to be removed."
   ],
   "metadata": {
    "collapsed": false
   }
  },
  {
   "cell_type": "code",
   "execution_count": 86,
   "outputs": [],
   "source": [
    "from sklearn import linear_model"
   ],
   "metadata": {
    "collapsed": false
   }
  },
  {
   "cell_type": "code",
   "execution_count": 87,
   "outputs": [],
   "source": [
    "model = linear_model.LinearRegression()"
   ],
   "metadata": {
    "collapsed": false
   }
  },
  {
   "cell_type": "code",
   "execution_count": 88,
   "outputs": [],
   "source": [
    "def findNextBestPredictor(X,foundPredictors, col):\n",
    "    nP = X.shape[1] # number of columns in X\n",
    "    allPredictors = list(X) # See https://stackoverflow.com/a/19483025\n",
    "    predictorsToSearch = set(allPredictors) - set(foundPredictors)\n",
    "    maxScore = 0 # can usually do better than this!\n",
    "    for predictor in predictorsToSearch: # loop over all remaining columns (predictors) in X\n",
    "        trialPredictors = set(foundPredictors)\n",
    "        trialPredictors.add(predictor) # Add this predictor to the existing predictors\n",
    "        XcolSubset = X.loc[:,list(trialPredictors)] # all rows and just the trial predictors\n",
    "        model.fit(XcolSubset, ytrain[col]) # fit the model to y\n",
    "        xtrain = model.score(XcolSubset, ytrain[col])\n",
    "        if xtrain > maxScore: # identify the largest score and its associated predictor\n",
    "            maxScore = xtrain\n",
    "            bestPredictorFound = predictor\n",
    "\n",
    "    return (maxScore, bestPredictorFound)\n",
    "\n",
    "# findNextBestPredictor(xtrain, list())"
   ],
   "metadata": {
    "collapsed": false
   }
  },
  {
   "cell_type": "code",
   "execution_count": 89,
   "outputs": [],
   "source": [
    "def predScore(df2, col):\n",
    "    nP = df2.shape[1]\n",
    "    scores = [0]\n",
    "    foundPredictors = list()\n",
    "\n",
    "    for i in range(nP): # loop over all columns (predictors) in X\n",
    "        (score, bestPredictorFound) = findNextBestPredictor(df2, foundPredictors, col)\n",
    "        foundPredictors.append(bestPredictorFound)\n",
    "        scores.append(score)\n",
    "        print(foundPredictors, score, col)\n",
    "\n",
    "    print(foundPredictors)\n",
    "    print(scores)\n",
    "    return scores"
   ],
   "metadata": {
    "collapsed": false
   }
  },
  {
   "cell_type": "code",
   "execution_count": 90,
   "outputs": [
    {
     "name": "stdout",
     "output_type": "stream",
     "text": [
      "['temp'] 0.2093934577991584 casual\n",
      "['temp', 'hum'] 0.31125031264183 casual\n",
      "['temp', 'hum', 'hr'] 0.3372316715199666 casual\n",
      "['temp', 'hum', 'hr', 'yr'] 0.3478349454412294 casual\n",
      "['temp', 'hum', 'hr', 'yr', 'holiday'] 0.3493334327998132 casual\n",
      "['temp', 'hum', 'hr', 'yr', 'holiday', 'weekday'] 0.3502921728937194 casual\n",
      "['temp', 'hum', 'hr', 'yr', 'holiday', 'weekday', 'mnth'] 0.35120510801787064 casual\n",
      "['temp', 'hum', 'hr', 'yr', 'holiday', 'weekday', 'mnth', 'weathersit'] 0.3512508867701528 casual\n",
      "['temp', 'hum', 'hr', 'yr', 'holiday', 'weekday', 'mnth', 'weathersit', 'windspeed'] 0.35127344202115285 casual\n",
      "['temp', 'hum', 'hr', 'yr', 'holiday', 'weekday', 'mnth', 'weathersit', 'windspeed']\n",
      "[0, 0.2093934577991584, 0.31125031264183, 0.3372316715199666, 0.3478349454412294, 0.3493334327998132, 0.3502921728937194, 0.35120510801787064, 0.3512508867701528, 0.35127344202115285]\n",
      "['hr'] 0.13983747409177472 registered\n",
      "['hr', 'temp'] 0.21951454711429796 registered\n",
      "['hr', 'temp', 'yr'] 0.27844165579014146 registered\n",
      "['hr', 'temp', 'yr', 'hum'] 0.30016153578128957 registered\n",
      "['hr', 'temp', 'yr', 'hum', 'mnth'] 0.30980150623473557 registered\n",
      "['hr', 'temp', 'yr', 'hum', 'mnth', 'holiday'] 0.31196338951388103 registered\n",
      "['hr', 'temp', 'yr', 'hum', 'mnth', 'holiday', 'weathersit'] 0.31233454697018204 registered\n",
      "['hr', 'temp', 'yr', 'hum', 'mnth', 'holiday', 'weathersit', 'windspeed'] 0.3126184948541272 registered\n",
      "['hr', 'temp', 'yr', 'hum', 'mnth', 'holiday', 'weathersit', 'windspeed', 'weekday'] 0.312776211880054 registered\n",
      "['hr', 'temp', 'yr', 'hum', 'mnth', 'holiday', 'weathersit', 'windspeed', 'weekday']\n",
      "[0, 0.13983747409177472, 0.21951454711429796, 0.27844165579014146, 0.30016153578128957, 0.30980150623473557, 0.31196338951388103, 0.31233454697018204, 0.3126184948541272, 0.312776211880054]\n",
      "['temp'] 0.16223975350792108 cnt\n",
      "['temp', 'hr'] 0.27792053944443385 cnt\n",
      "['temp', 'hr', 'yr'] 0.3339105237460839 cnt\n",
      "['temp', 'hr', 'yr', 'hum'] 0.3708556686477904 cnt\n",
      "['temp', 'hr', 'yr', 'hum', 'mnth'] 0.37904720281454596 cnt\n",
      "['temp', 'hr', 'yr', 'hum', 'mnth', 'holiday'] 0.3798526505985196 cnt\n",
      "['temp', 'hr', 'yr', 'hum', 'mnth', 'holiday', 'weekday'] 0.38018689246912485 cnt\n",
      "['temp', 'hr', 'yr', 'hum', 'mnth', 'holiday', 'weekday', 'weathersit'] 0.3803956978436328 cnt\n",
      "['temp', 'hr', 'yr', 'hum', 'mnth', 'holiday', 'weekday', 'weathersit', 'windspeed'] 0.38063253135589736 cnt\n",
      "['temp', 'hr', 'yr', 'hum', 'mnth', 'holiday', 'weekday', 'weathersit', 'windspeed']\n",
      "[0, 0.16223975350792108, 0.27792053944443385, 0.3339105237460839, 0.3708556686477904, 0.37904720281454596, 0.3798526505985196, 0.38018689246912485, 0.3803956978436328, 0.38063253135589736]\n"
     ]
    },
    {
     "data": {
      "text/plain": "<Figure size 432x288 with 1 Axes>",
      "image/png": "[encoded data removed]"
     },
     "metadata": {},
     "output_type": "display_data"
    }
   ],
   "source": [
    "for col in ytrain.columns.values:\n",
    "    scores = predScore(xtrain, col)\n",
    "    plt.plot(scores)"
   ],
   "metadata": {
    "collapsed": false
   }
  },
  {
   "cell_type": "markdown",
   "source": [
    "As shown above we were able to get a score prediction for our features. The more features added obviously the higher the value will be."
   ],
   "metadata": {
    "collapsed": false
   }
  },
  {
   "cell_type": "markdown",
   "source": [
    "In this plot we see that the green line is cnt, the blue line is casual and the red line is registered."
   ],
   "metadata": {
    "collapsed": false
   }
  },
  {
   "cell_type": "code",
   "execution_count": 91,
   "outputs": [],
   "source": [
    "# model.fit(xtrain,ytrain['Quantile'])\n",
    "#\n",
    "# ypredScore=model.predict(xtest)\n",
    "#\n",
    "# showDiagnostics(ytest['Quantile'], ypredScore)"
   ],
   "metadata": {
    "collapsed": false
   }
  },
  {
   "cell_type": "markdown",
   "source": [
    "# Task 3 Conclusion"
   ],
   "metadata": {
    "collapsed": false
   }
  },
  {
   "cell_type": "markdown",
   "source": [
    "With the completion of this task we found out the score of each target. They were all quite close in their scores but there was of course a best of the 3. In this case it was cnt."
   ],
   "metadata": {
    "collapsed": false
   }
  },
  {
   "cell_type": "markdown",
   "id": "188ee3ec",
   "metadata": {},
   "source": [
    "##End of Answer 3##"
   ]
  },
  {
   "cell_type": "markdown",
   "id": "615ec5df",
   "metadata": {},
   "source": [
    "# Task 4: Which of the 3 target columns is easiest to predict accurately?"
   ]
  },
  {
   "cell_type": "markdown",
   "id": "da2a57de",
   "metadata": {},
   "source": [
    "##Start of Answer 4##"
   ]
  },
  {
   "cell_type": "code",
   "execution_count": 91,
   "id": "d27577bc",
   "metadata": {},
   "outputs": [],
   "source": []
  },
  {
   "cell_type": "code",
   "execution_count": 92,
   "outputs": [
    {
     "name": "stdout",
     "output_type": "stream",
     "text": [
      "casual\n",
      "['temp'] 0.2093934577991584 casual\n",
      "['temp', 'hum'] 0.31125031264183 casual\n",
      "['temp', 'hum', 'hr'] 0.3372316715199666 casual\n",
      "['temp', 'hum', 'hr', 'yr'] 0.3478349454412294 casual\n",
      "['temp', 'hum', 'hr', 'yr', 'holiday'] 0.3493334327998132 casual\n",
      "['temp', 'hum', 'hr', 'yr', 'holiday', 'weekday'] 0.3502921728937194 casual\n",
      "['temp', 'hum', 'hr', 'yr', 'holiday', 'weekday', 'mnth'] 0.35120510801787064 casual\n",
      "['temp', 'hum', 'hr', 'yr', 'holiday', 'weekday', 'mnth', 'weathersit'] 0.3512508867701528 casual\n",
      "['temp', 'hum', 'hr', 'yr', 'holiday', 'weekday', 'mnth', 'weathersit', 'windspeed'] 0.35127344202115285 casual\n",
      "['temp', 'hum', 'hr', 'yr', 'holiday', 'weekday', 'mnth', 'weathersit', 'windspeed']\n",
      "[0, 0.2093934577991584, 0.31125031264183, 0.3372316715199666, 0.3478349454412294, 0.3493334327998132, 0.3502921728937194, 0.35120510801787064, 0.3512508867701528, 0.35127344202115285]\n",
      "registered\n",
      "['hr'] 0.13983747409177472 registered\n",
      "['hr', 'temp'] 0.21951454711429796 registered\n",
      "['hr', 'temp', 'yr'] 0.27844165579014146 registered\n",
      "['hr', 'temp', 'yr', 'hum'] 0.30016153578128957 registered\n",
      "['hr', 'temp', 'yr', 'hum', 'mnth'] 0.30980150623473557 registered\n",
      "['hr', 'temp', 'yr', 'hum', 'mnth', 'holiday'] 0.31196338951388103 registered\n",
      "['hr', 'temp', 'yr', 'hum', 'mnth', 'holiday', 'weathersit'] 0.31233454697018204 registered\n",
      "['hr', 'temp', 'yr', 'hum', 'mnth', 'holiday', 'weathersit', 'windspeed'] 0.3126184948541272 registered\n",
      "['hr', 'temp', 'yr', 'hum', 'mnth', 'holiday', 'weathersit', 'windspeed', 'weekday'] 0.312776211880054 registered\n",
      "['hr', 'temp', 'yr', 'hum', 'mnth', 'holiday', 'weathersit', 'windspeed', 'weekday']\n",
      "[0, 0.13983747409177472, 0.21951454711429796, 0.27844165579014146, 0.30016153578128957, 0.30980150623473557, 0.31196338951388103, 0.31233454697018204, 0.3126184948541272, 0.312776211880054]\n",
      "cnt\n",
      "['temp'] 0.16223975350792108 cnt\n",
      "['temp', 'hr'] 0.27792053944443385 cnt\n",
      "['temp', 'hr', 'yr'] 0.3339105237460839 cnt\n",
      "['temp', 'hr', 'yr', 'hum'] 0.3708556686477904 cnt\n",
      "['temp', 'hr', 'yr', 'hum', 'mnth'] 0.37904720281454596 cnt\n",
      "['temp', 'hr', 'yr', 'hum', 'mnth', 'holiday'] 0.3798526505985196 cnt\n",
      "['temp', 'hr', 'yr', 'hum', 'mnth', 'holiday', 'weekday'] 0.38018689246912485 cnt\n",
      "['temp', 'hr', 'yr', 'hum', 'mnth', 'holiday', 'weekday', 'weathersit'] 0.3803956978436328 cnt\n",
      "['temp', 'hr', 'yr', 'hum', 'mnth', 'holiday', 'weekday', 'weathersit', 'windspeed'] 0.38063253135589736 cnt\n",
      "['temp', 'hr', 'yr', 'hum', 'mnth', 'holiday', 'weekday', 'weathersit', 'windspeed']\n",
      "[0, 0.16223975350792108, 0.27792053944443385, 0.3339105237460839, 0.3708556686477904, 0.37904720281454596, 0.3798526505985196, 0.38018689246912485, 0.3803956978436328, 0.38063253135589736]\n"
     ]
    }
   ],
   "source": [
    "for a in ytrain.columns.values:\n",
    "    print(a)\n",
    "    predScore(xtrain, a)"
   ],
   "metadata": {
    "collapsed": false
   }
  },
  {
   "cell_type": "markdown",
   "source": [
    "Out of the 3 targets given cnt was the easiest to predict in the end. This is because it's the highest value of the targets and it's results are more evenly distributed and stay more consistent.\n",
    "\n"
   ],
   "metadata": {
    "collapsed": false
   }
  },
  {
   "cell_type": "markdown",
   "source": [],
   "metadata": {
    "collapsed": false
   }
  },
  {
   "cell_type": "code",
   "execution_count": 93,
   "outputs": [
    {
     "name": "stdout",
     "output_type": "stream",
     "text": [
      "casual\n",
      "['temp'] 0.2093934577991584 casual\n",
      "['temp', 'hum'] 0.31125031264183 casual\n",
      "['temp', 'hum', 'hr'] 0.3372316715199666 casual\n",
      "['temp', 'hum', 'hr', 'yr'] 0.3478349454412294 casual\n",
      "['temp', 'hum', 'hr', 'yr', 'holiday'] 0.3493334327998132 casual\n",
      "['temp', 'hum', 'hr', 'yr', 'holiday', 'weekday'] 0.3502921728937194 casual\n",
      "['temp', 'hum', 'hr', 'yr', 'holiday', 'weekday', 'mnth'] 0.35120510801787064 casual\n",
      "['temp', 'hum', 'hr', 'yr', 'holiday', 'weekday', 'mnth', 'weathersit'] 0.3512508867701528 casual\n",
      "['temp', 'hum', 'hr', 'yr', 'holiday', 'weekday', 'mnth', 'weathersit', 'windspeed'] 0.35127344202115285 casual\n",
      "['temp', 'hum', 'hr', 'yr', 'holiday', 'weekday', 'mnth', 'weathersit', 'windspeed']\n",
      "[0, 0.2093934577991584, 0.31125031264183, 0.3372316715199666, 0.3478349454412294, 0.3493334327998132, 0.3502921728937194, 0.35120510801787064, 0.3512508867701528, 0.35127344202115285]\n",
      "registered\n",
      "['hr'] 0.13983747409177472 registered\n",
      "['hr', 'temp'] 0.21951454711429796 registered\n",
      "['hr', 'temp', 'yr'] 0.27844165579014146 registered\n",
      "['hr', 'temp', 'yr', 'hum'] 0.30016153578128957 registered\n",
      "['hr', 'temp', 'yr', 'hum', 'mnth'] 0.30980150623473557 registered\n",
      "['hr', 'temp', 'yr', 'hum', 'mnth', 'holiday'] 0.31196338951388103 registered\n",
      "['hr', 'temp', 'yr', 'hum', 'mnth', 'holiday', 'weathersit'] 0.31233454697018204 registered\n",
      "['hr', 'temp', 'yr', 'hum', 'mnth', 'holiday', 'weathersit', 'windspeed'] 0.3126184948541272 registered\n",
      "['hr', 'temp', 'yr', 'hum', 'mnth', 'holiday', 'weathersit', 'windspeed', 'weekday'] 0.312776211880054 registered\n",
      "['hr', 'temp', 'yr', 'hum', 'mnth', 'holiday', 'weathersit', 'windspeed', 'weekday']\n",
      "[0, 0.13983747409177472, 0.21951454711429796, 0.27844165579014146, 0.30016153578128957, 0.30980150623473557, 0.31196338951388103, 0.31233454697018204, 0.3126184948541272, 0.312776211880054]\n",
      "cnt\n",
      "['temp'] 0.16223975350792108 cnt\n",
      "['temp', 'hr'] 0.27792053944443385 cnt\n",
      "['temp', 'hr', 'yr'] 0.3339105237460839 cnt\n",
      "['temp', 'hr', 'yr', 'hum'] 0.3708556686477904 cnt\n",
      "['temp', 'hr', 'yr', 'hum', 'mnth'] 0.37904720281454596 cnt\n",
      "['temp', 'hr', 'yr', 'hum', 'mnth', 'holiday'] 0.3798526505985196 cnt\n",
      "['temp', 'hr', 'yr', 'hum', 'mnth', 'holiday', 'weekday'] 0.38018689246912485 cnt\n",
      "['temp', 'hr', 'yr', 'hum', 'mnth', 'holiday', 'weekday', 'weathersit'] 0.3803956978436328 cnt\n",
      "['temp', 'hr', 'yr', 'hum', 'mnth', 'holiday', 'weekday', 'weathersit', 'windspeed'] 0.38063253135589736 cnt\n",
      "['temp', 'hr', 'yr', 'hum', 'mnth', 'holiday', 'weekday', 'weathersit', 'windspeed']\n",
      "[0, 0.16223975350792108, 0.27792053944443385, 0.3339105237460839, 0.3708556686477904, 0.37904720281454596, 0.3798526505985196, 0.38018689246912485, 0.3803956978436328, 0.38063253135589736]\n"
     ]
    }
   ],
   "source": [
    "for a in ytrain.columns.values:\n",
    "    print(a)\n",
    "    predScore(xtrain, a)"
   ],
   "metadata": {
    "collapsed": false
   }
  },
  {
   "cell_type": "markdown",
   "id": "5b00941a",
   "metadata": {},
   "source": [
    "##End of Answer 4##"
   ]
  },
  {
   "cell_type": "markdown",
   "source": [
    "As we can see I dropped the uneccessary features that followed to best score I've decided on. In terms of the best score I think cnt has the best overall result and it's individual score is the 0.38137597.\n",
    "\n",
    "This was quite tough to decide, especially cause in terms of value each target had a similar enough growth in value pattern. However there were slight notice-abilities in terms of finding a more consistent rise in value, this was found with the cnt target."
   ],
   "metadata": {
    "collapsed": false
   }
  },
  {
   "cell_type": "markdown",
   "id": "91770a37",
   "metadata": {},
   "source": [
    "# Task 5: Using this \"preferred target\", derive a new target whose values are the grouped label"
   ]
  },
  {
   "cell_type": "markdown",
   "source": [
    "##Start of Answer 5##"
   ],
   "metadata": {
    "collapsed": false
   }
  },
  {
   "cell_type": "code",
   "execution_count": 94,
   "outputs": [
    {
     "data": {
      "text/plain": "6710      (0.999, 43.0]\n11941    (288.0, 968.0]\n10195     (43.0, 146.5]\n10464     (0.999, 43.0]\n2443      (0.999, 43.0]\n              ...      \n14798    (288.0, 968.0]\n3063     (146.5, 288.0]\n10715    (146.5, 288.0]\n11824    (146.5, 288.0]\n2785      (43.0, 146.5]\nName: cnt, Length: 3476, dtype: category\nCategories (4, interval[float64, right]): [(0.999, 43.0] < (43.0, 146.5] < (146.5, 288.0] < (288.0, 968.0]]"
     },
     "execution_count": 94,
     "metadata": {},
     "output_type": "execute_result"
    }
   ],
   "source": [
    "pd.qcut(ytrain['cnt'], 4)\n",
    "pd.qcut(ytest['cnt'], 4)"
   ],
   "metadata": {
    "collapsed": false
   }
  },
  {
   "cell_type": "markdown",
   "source": [],
   "metadata": {
    "collapsed": false
   }
  },
  {
   "cell_type": "code",
   "execution_count": 95,
   "outputs": [
    {
     "data": {
      "text/plain": "       casual  registered  cnt Quantile\n6710        1           6    7        4\n11941     134         734  868        1\n10195       4         116  120        3\n10464       2          24   26        4\n2443        1          14   15        4\n...       ...         ...  ...      ...\n14798      80         594  674        1\n3063       48         170  218        2\n10715      37         147  184        2\n11824      74         156  230        2\n2785       34          91  125        3\n\n[3476 rows x 4 columns]",
      "text/html": "<div>\n<style scoped>\n    .dataframe tbody tr th:only-of-type {\n        vertical-align: middle;\n    }\n\n    .dataframe tbody tr th {\n        vertical-align: top;\n    }\n\n    .dataframe thead th {\n        text-align: right;\n    }\n</style>\n<table border=\"1\" class=\"dataframe\">\n  <thead>\n    <tr style=\"text-align: right;\">\n      <th></th>\n      <th>casual</th>\n      <th>registered</th>\n      <th>cnt</th>\n      <th>Quantile</th>\n    </tr>\n  </thead>\n  <tbody>\n    <tr>\n      <th>6710</th>\n      <td>1</td>\n      <td>6</td>\n      <td>7</td>\n      <td>4</td>\n    </tr>\n    <tr>\n      <th>11941</th>\n      <td>134</td>\n      <td>734</td>\n      <td>868</td>\n      <td>1</td>\n    </tr>\n    <tr>\n      <th>10195</th>\n      <td>4</td>\n      <td>116</td>\n      <td>120</td>\n      <td>3</td>\n    </tr>\n    <tr>\n      <th>10464</th>\n      <td>2</td>\n      <td>24</td>\n      <td>26</td>\n      <td>4</td>\n    </tr>\n    <tr>\n      <th>2443</th>\n      <td>1</td>\n      <td>14</td>\n      <td>15</td>\n      <td>4</td>\n    </tr>\n    <tr>\n      <th>...</th>\n      <td>...</td>\n      <td>...</td>\n      <td>...</td>\n      <td>...</td>\n    </tr>\n    <tr>\n      <th>14798</th>\n      <td>80</td>\n      <td>594</td>\n      <td>674</td>\n      <td>1</td>\n    </tr>\n    <tr>\n      <th>3063</th>\n      <td>48</td>\n      <td>170</td>\n      <td>218</td>\n      <td>2</td>\n    </tr>\n    <tr>\n      <th>10715</th>\n      <td>37</td>\n      <td>147</td>\n      <td>184</td>\n      <td>2</td>\n    </tr>\n    <tr>\n      <th>11824</th>\n      <td>74</td>\n      <td>156</td>\n      <td>230</td>\n      <td>2</td>\n    </tr>\n    <tr>\n      <th>2785</th>\n      <td>34</td>\n      <td>91</td>\n      <td>125</td>\n      <td>3</td>\n    </tr>\n  </tbody>\n</table>\n<p>3476 rows × 4 columns</p>\n</div>"
     },
     "execution_count": 95,
     "metadata": {},
     "output_type": "execute_result"
    }
   ],
   "source": [
    "ytrain['Quantile'] = pd.qcut(ytrain['cnt'], 4, labels=[4,3,2,1])\n",
    "ytest['Quantile'] = pd.qcut(ytest['cnt'], 4, labels=[4,3,2,1])\n",
    "ytest"
   ],
   "metadata": {
    "collapsed": false
   }
  },
  {
   "cell_type": "markdown",
   "source": [],
   "metadata": {
    "collapsed": false
   }
  },
  {
   "cell_type": "markdown",
   "id": "2a19d02c",
   "metadata": {},
   "source": [
    "##End of Answer 5##"
   ]
  },
  {
   "cell_type": "markdown",
   "id": "616027a7",
   "metadata": {},
   "source": [
    "# Task 6: Use _two_ classification procedures to predict these demand quartiles"
   ]
  },
  {
   "cell_type": "markdown",
   "id": "eec67e3f",
   "metadata": {},
   "source": [
    "##Start of Answer 6"
   ]
  },
  {
   "cell_type": "code",
   "execution_count": 96,
   "id": "9b6a3cc3",
   "metadata": {},
   "outputs": [],
   "source": [
    "#scale data in task 3 ytrain - Yscaled"
   ]
  },
  {
   "cell_type": "code",
   "execution_count": 97,
   "outputs": [],
   "source": [
    "xtrain.drop(['weathersit','windspeed' ], axis=1, inplace=True)"
   ],
   "metadata": {
    "collapsed": false
   }
  },
  {
   "cell_type": "code",
   "execution_count": 98,
   "outputs": [],
   "source": [
    "xtest.drop(['weathersit','windspeed' ], axis=1, inplace=True)"
   ],
   "metadata": {
    "collapsed": false
   }
  },
  {
   "cell_type": "code",
   "execution_count": 99,
   "outputs": [
    {
     "name": "stdout",
     "output_type": "stream",
     "text": [
      "<class 'pandas.core.frame.DataFrame'>\n",
      "Int64Index: 3476 entries, 6710 to 2785\n",
      "Data columns (total 4 columns):\n",
      " #   Column      Non-Null Count  Dtype   \n",
      "---  ------      --------------  -----   \n",
      " 0   casual      3476 non-null   int64   \n",
      " 1   registered  3476 non-null   int64   \n",
      " 2   cnt         3476 non-null   int64   \n",
      " 3   Quantile    3476 non-null   category\n",
      "dtypes: category(1), int64(3)\n",
      "memory usage: 112.2 KB\n"
     ]
    }
   ],
   "source": [
    "ytest.info()"
   ],
   "metadata": {
    "collapsed": false
   }
  },
  {
   "cell_type": "markdown",
   "source": [
    "The dataframe contains 3476 entries with 4 columns, casual, registered, cnt and Quantile. If what we've done previousy is correct then we should have the same 4 columns for ytrain. The first three columns are int64 type and the fourth column is a category type."
   ],
   "metadata": {
    "collapsed": false
   }
  },
  {
   "cell_type": "code",
   "execution_count": 100,
   "outputs": [
    {
     "name": "stdout",
     "output_type": "stream",
     "text": [
      "<class 'pandas.core.frame.DataFrame'>\n",
      "Int64Index: 13903 entries, 16143 to 1101\n",
      "Data columns (total 4 columns):\n",
      " #   Column      Non-Null Count  Dtype   \n",
      "---  ------      --------------  -----   \n",
      " 0   casual      13903 non-null  int64   \n",
      " 1   registered  13903 non-null  int64   \n",
      " 2   cnt         13903 non-null  int64   \n",
      " 3   Quantile    13903 non-null  category\n",
      "dtypes: category(1), int64(3)\n",
      "memory usage: 448.2 KB\n"
     ]
    }
   ],
   "source": [
    "ytrain.info()"
   ],
   "metadata": {
    "collapsed": false
   }
  },
  {
   "cell_type": "markdown",
   "source": [
    "As we can see the correct 4 columns are here in ytrain which matches with ytest"
   ],
   "metadata": {
    "collapsed": false
   }
  },
  {
   "cell_type": "code",
   "execution_count": 101,
   "outputs": [],
   "source": [
    "def findNextBestPredictor(X, model,foundPredictors):\n",
    "    nP = X.shape[1] # number of columns in X\n",
    "    allPredictors = list(X) # See https://stackoverflow.com/a/19483025\n",
    "    predictorsToSearch = set(allPredictors) - set(foundPredictors)\n",
    "    maxScore = 0 # can usually do better than this!\n",
    "    for predictor in predictorsToSearch: # loop over all remaining columns (predictors) in X\n",
    "        trialPredictors = set(foundPredictors)\n",
    "        trialPredictors.add(predictor) # Add this predictor to the existing predictors\n",
    "        XcolSubset = X.loc[:,list(trialPredictors)] # all rows and just the trial predictors\n",
    "        testXcolSubset = xtest.loc[:,list(trialPredictors)]\n",
    "        model.fit(XcolSubset, ytrain['Quantile']) # fit the model to y\n",
    "        ypredScore = model.predict(testXcolSubset)\n",
    "        if accuracy_score(ytest['Quantile'],ypredScore > maxScore):\n",
    "            maxScore = accuracy_score(ytest['Quantile'],ypredScore)\n",
    "            bestPredictorFound = predictor\n",
    "\n",
    "    return (maxScore, bestPredictorFound)"
   ],
   "metadata": {
    "collapsed": false
   }
  },
  {
   "cell_type": "markdown",
   "source": [
    "This will find the two best predictors in X."
   ],
   "metadata": {
    "collapsed": false
   }
  },
  {
   "cell_type": "code",
   "execution_count": 102,
   "outputs": [],
   "source": [
    "# Import scikit-learn metrics module for accuracy calculation\n",
    "from sklearn.metrics import confusion_matrix, accuracy_score, classification_report\n",
    "\n",
    "def showDiagnostics(y, ypredScore):\n",
    "    # Model Accuracy, how often is the classifier correct?\n",
    "    print(\"Accuracy:\",accuracy_score(y, ypredScore))\n",
    "    print(\"Confusion Matrix:\")\n",
    "    print(confusion_matrix(y, ypredScore))\n",
    "    print(\"Classification Report:\")\n",
    "    print(classification_report(y, ypredScore, digits=3))\n"
   ],
   "metadata": {
    "collapsed": false
   }
  },
  {
   "cell_type": "markdown",
   "source": [
    "Here we calculate the accuracy of our find next best predictor function that will be added to our 2 classification tests"
   ],
   "metadata": {
    "collapsed": false
   }
  },
  {
   "cell_type": "code",
   "execution_count": 103,
   "outputs": [],
   "source": [
    "def classification_score(Model):\n",
    "\n",
    "    nP = xtest.shape[1]\n",
    "    scores = [0]\n",
    "    foundPredictors = list()\n",
    "\n",
    "    for i in range(nP): # loop over all columns (predictors) in X\n",
    "        (score, bestPredictorFound) = findNextBestPredictor(xtest, foundPredictors, model)\n",
    "        foundPredictors.append(bestPredictorFound)\n",
    "        scores.append(score)\n",
    "        print(foundPredictors, score)\n",
    "\n",
    "    print(foundPredictors)\n",
    "    print(scores)"
   ],
   "metadata": {
    "collapsed": false
   }
  },
  {
   "cell_type": "markdown",
   "source": [
    "Here we loop over all the columns to help determine the predictors in X"
   ],
   "metadata": {
    "collapsed": false
   }
  },
  {
   "cell_type": "code",
   "execution_count": 104,
   "outputs": [
    {
     "name": "stdout",
     "output_type": "stream",
     "text": [
      "Accuracy: 0.562428078250863\n",
      "Confusion Matrix:\n",
      "[[553 172  28 115]\n",
      " [304 330 117 119]\n",
      " [ 49 217 307 295]\n",
      " [  3   8  94 765]]\n",
      "Classification Report:\n",
      "              precision    recall  f1-score   support\n",
      "\n",
      "           1      0.608     0.637     0.622       868\n",
      "           2      0.454     0.379     0.413       870\n",
      "           3      0.562     0.354     0.434       868\n",
      "           4      0.591     0.879     0.707       870\n",
      "\n",
      "    accuracy                          0.562      3476\n",
      "   macro avg      0.554     0.562     0.544      3476\n",
      "weighted avg      0.554     0.562     0.544      3476\n",
      "\n"
     ]
    }
   ],
   "source": [
    "from sklearn.naive_bayes import GaussianNB\n",
    "\n",
    "# Create a Naive Bayes Classifier\n",
    "clf=GaussianNB()\n",
    "\n",
    "# Train the model using the training sets y_pred=clf.predict(X_test)\n",
    "clf.fit(xtrain,ytrain['Quantile'])\n",
    "\n",
    "# prediction on test set\n",
    "ypredScore=clf.predict(xtest)\n",
    "\n",
    "showDiagnostics(ytest['Quantile'], ypredScore)"
   ],
   "metadata": {
    "collapsed": false
   }
  },
  {
   "cell_type": "code",
   "execution_count": 105,
   "outputs": [
    {
     "name": "stdout",
     "output_type": "stream",
     "text": [
      "Accuracy: 0.7920023014959724\n",
      "Confusion Matrix:\n",
      "[[776  92   0   0]\n",
      " [176 610  84   0]\n",
      " [ 36 181 612  39]\n",
      " [  8  18  89 755]]\n",
      "Classification Report:\n",
      "              precision    recall  f1-score   support\n",
      "\n",
      "           1      0.779     0.894     0.833       868\n",
      "           2      0.677     0.701     0.689       870\n",
      "           3      0.780     0.705     0.740       868\n",
      "           4      0.951     0.868     0.907       870\n",
      "\n",
      "    accuracy                          0.792      3476\n",
      "   macro avg      0.797     0.792     0.792      3476\n",
      "weighted avg      0.797     0.792     0.792      3476\n",
      "\n"
     ]
    }
   ],
   "source": [
    "from sklearn.neighbors import KNeighborsClassifier\n",
    "\n",
    "# Create a KNN Classifier\n",
    "clf=KNeighborsClassifier(n_neighbors=5)\n",
    "\n",
    "# Train the model using the training sets y_pred=clf.predict(X_test)\n",
    "clf.fit(xtrain,ytrain['Quantile'])\n",
    "\n",
    "# prediction on test set\n",
    "ypredScore=clf.predict(xtest)\n",
    "\n",
    "showDiagnostics(ytest['Quantile'], ypredScore)"
   ],
   "metadata": {
    "collapsed": false
   }
  },
  {
   "cell_type": "markdown",
   "source": [
    "As we can see the KNN classification came out as more accurate. We know this based on the accuracy result, the macro avg, the weighted average. All of these results were just a bit better and it shows."
   ],
   "metadata": {
    "collapsed": false
   }
  },
  {
   "cell_type": "code",
   "execution_count": 106,
   "outputs": [
    {
     "data": {
      "text/plain": "       yr  mnth  hr  holiday  weekday  temp   hum\n6710    0    10   4        0        3  0.54  0.94\n11941   1     5  18        0        4  0.66  0.27\n10195   1     3  21        0        1  0.26  0.37\n10464   1     3   3        0        6  0.44  0.88\n2443    0     4  17        0        6  0.50  0.88\n...    ..   ...  ..      ...      ...   ...   ...\n14798   1     9  19        0        4  0.64  0.65\n3063    0     5  13        0        4  0.62  0.57\n10715   1     3  14        0        2  0.40  0.24\n11824   1     5  21        0        6  0.60  0.60\n2785    0     4  23        0        6  0.44  0.67\n\n[3476 rows x 7 columns]",
      "text/html": "<div>\n<style scoped>\n    .dataframe tbody tr th:only-of-type {\n        vertical-align: middle;\n    }\n\n    .dataframe tbody tr th {\n        vertical-align: top;\n    }\n\n    .dataframe thead th {\n        text-align: right;\n    }\n</style>\n<table border=\"1\" class=\"dataframe\">\n  <thead>\n    <tr style=\"text-align: right;\">\n      <th></th>\n      <th>yr</th>\n      <th>mnth</th>\n      <th>hr</th>\n      <th>holiday</th>\n      <th>weekday</th>\n      <th>temp</th>\n      <th>hum</th>\n    </tr>\n  </thead>\n  <tbody>\n    <tr>\n      <th>6710</th>\n      <td>0</td>\n      <td>10</td>\n      <td>4</td>\n      <td>0</td>\n      <td>3</td>\n      <td>0.54</td>\n      <td>0.94</td>\n    </tr>\n    <tr>\n      <th>11941</th>\n      <td>1</td>\n      <td>5</td>\n      <td>18</td>\n      <td>0</td>\n      <td>4</td>\n      <td>0.66</td>\n      <td>0.27</td>\n    </tr>\n    <tr>\n      <th>10195</th>\n      <td>1</td>\n      <td>3</td>\n      <td>21</td>\n      <td>0</td>\n      <td>1</td>\n      <td>0.26</td>\n      <td>0.37</td>\n    </tr>\n    <tr>\n      <th>10464</th>\n      <td>1</td>\n      <td>3</td>\n      <td>3</td>\n      <td>0</td>\n      <td>6</td>\n      <td>0.44</td>\n      <td>0.88</td>\n    </tr>\n    <tr>\n      <th>2443</th>\n      <td>0</td>\n      <td>4</td>\n      <td>17</td>\n      <td>0</td>\n      <td>6</td>\n      <td>0.50</td>\n      <td>0.88</td>\n    </tr>\n    <tr>\n      <th>...</th>\n      <td>...</td>\n      <td>...</td>\n      <td>...</td>\n      <td>...</td>\n      <td>...</td>\n      <td>...</td>\n      <td>...</td>\n    </tr>\n    <tr>\n      <th>14798</th>\n      <td>1</td>\n      <td>9</td>\n      <td>19</td>\n      <td>0</td>\n      <td>4</td>\n      <td>0.64</td>\n      <td>0.65</td>\n    </tr>\n    <tr>\n      <th>3063</th>\n      <td>0</td>\n      <td>5</td>\n      <td>13</td>\n      <td>0</td>\n      <td>4</td>\n      <td>0.62</td>\n      <td>0.57</td>\n    </tr>\n    <tr>\n      <th>10715</th>\n      <td>1</td>\n      <td>3</td>\n      <td>14</td>\n      <td>0</td>\n      <td>2</td>\n      <td>0.40</td>\n      <td>0.24</td>\n    </tr>\n    <tr>\n      <th>11824</th>\n      <td>1</td>\n      <td>5</td>\n      <td>21</td>\n      <td>0</td>\n      <td>6</td>\n      <td>0.60</td>\n      <td>0.60</td>\n    </tr>\n    <tr>\n      <th>2785</th>\n      <td>0</td>\n      <td>4</td>\n      <td>23</td>\n      <td>0</td>\n      <td>6</td>\n      <td>0.44</td>\n      <td>0.67</td>\n    </tr>\n  </tbody>\n</table>\n<p>3476 rows × 7 columns</p>\n</div>"
     },
     "execution_count": 106,
     "metadata": {},
     "output_type": "execute_result"
    }
   ],
   "source": [
    "xtest"
   ],
   "metadata": {
    "collapsed": false
   }
  },
  {
   "cell_type": "code",
   "execution_count": 107,
   "outputs": [
    {
     "data": {
      "text/plain": "       yr  mnth  hr  holiday  weekday  temp   hum\n16143   1    11   9        0        6  0.36  0.66\n8171    0    12   3        0        1  0.18  0.74\n4044    0     6  10        0        3  0.74  0.70\n10681   1     3   4        0        1  0.44  0.82\n11106   1     4  23        0        4  0.42  0.35\n...    ..   ...  ..      ...      ...   ...   ...\n5076    0     8  10        0        4  0.72  0.71\n17031   1    12  10        0        1  0.38  0.87\n5081    0     8  15        0        4  0.80  0.55\n8574    0    12   1        0        4  0.22  0.47\n1101    0     2  15        0        5  0.66  0.36\n\n[13903 rows x 7 columns]",
      "text/html": "<div>\n<style scoped>\n    .dataframe tbody tr th:only-of-type {\n        vertical-align: middle;\n    }\n\n    .dataframe tbody tr th {\n        vertical-align: top;\n    }\n\n    .dataframe thead th {\n        text-align: right;\n    }\n</style>\n<table border=\"1\" class=\"dataframe\">\n  <thead>\n    <tr style=\"text-align: right;\">\n      <th></th>\n      <th>yr</th>\n      <th>mnth</th>\n      <th>hr</th>\n      <th>holiday</th>\n      <th>weekday</th>\n      <th>temp</th>\n      <th>hum</th>\n    </tr>\n  </thead>\n  <tbody>\n    <tr>\n      <th>16143</th>\n      <td>1</td>\n      <td>11</td>\n      <td>9</td>\n      <td>0</td>\n      <td>6</td>\n      <td>0.36</td>\n      <td>0.66</td>\n    </tr>\n    <tr>\n      <th>8171</th>\n      <td>0</td>\n      <td>12</td>\n      <td>3</td>\n      <td>0</td>\n      <td>1</td>\n      <td>0.18</td>\n      <td>0.74</td>\n    </tr>\n    <tr>\n      <th>4044</th>\n      <td>0</td>\n      <td>6</td>\n      <td>10</td>\n      <td>0</td>\n      <td>3</td>\n      <td>0.74</td>\n      <td>0.70</td>\n    </tr>\n    <tr>\n      <th>10681</th>\n      <td>1</td>\n      <td>3</td>\n      <td>4</td>\n      <td>0</td>\n      <td>1</td>\n      <td>0.44</td>\n      <td>0.82</td>\n    </tr>\n    <tr>\n      <th>11106</th>\n      <td>1</td>\n      <td>4</td>\n      <td>23</td>\n      <td>0</td>\n      <td>4</td>\n      <td>0.42</td>\n      <td>0.35</td>\n    </tr>\n    <tr>\n      <th>...</th>\n      <td>...</td>\n      <td>...</td>\n      <td>...</td>\n      <td>...</td>\n      <td>...</td>\n      <td>...</td>\n      <td>...</td>\n    </tr>\n    <tr>\n      <th>5076</th>\n      <td>0</td>\n      <td>8</td>\n      <td>10</td>\n      <td>0</td>\n      <td>4</td>\n      <td>0.72</td>\n      <td>0.71</td>\n    </tr>\n    <tr>\n      <th>17031</th>\n      <td>1</td>\n      <td>12</td>\n      <td>10</td>\n      <td>0</td>\n      <td>1</td>\n      <td>0.38</td>\n      <td>0.87</td>\n    </tr>\n    <tr>\n      <th>5081</th>\n      <td>0</td>\n      <td>8</td>\n      <td>15</td>\n      <td>0</td>\n      <td>4</td>\n      <td>0.80</td>\n      <td>0.55</td>\n    </tr>\n    <tr>\n      <th>8574</th>\n      <td>0</td>\n      <td>12</td>\n      <td>1</td>\n      <td>0</td>\n      <td>4</td>\n      <td>0.22</td>\n      <td>0.47</td>\n    </tr>\n    <tr>\n      <th>1101</th>\n      <td>0</td>\n      <td>2</td>\n      <td>15</td>\n      <td>0</td>\n      <td>5</td>\n      <td>0.66</td>\n      <td>0.36</td>\n    </tr>\n  </tbody>\n</table>\n<p>13903 rows × 7 columns</p>\n</div>"
     },
     "execution_count": 107,
     "metadata": {},
     "output_type": "execute_result"
    }
   ],
   "source": [
    "xtrain"
   ],
   "metadata": {
    "collapsed": false
   }
  },
  {
   "cell_type": "markdown",
   "source": [
    "# Task 6 Conclusion"
   ],
   "metadata": {
    "collapsed": false
   }
  },
  {
   "cell_type": "markdown",
   "source": [
    "We have learned a lot from this task. We got to compare the 2 well known and used machine learning procedures and found out which was the best used for our situation. All columns and results favoured the KNN procedure and if we were to use this in an everyday real life scenario I would highly recommend it ahead of the Naive Bayes classifier."
   ],
   "metadata": {
    "collapsed": false
   }
  },
  {
   "cell_type": "markdown",
   "id": "3e8f39bd",
   "metadata": {},
   "source": [
    "##End of Answer 6##"
   ]
  },
  {
   "cell_type": "markdown",
   "id": "042e18e1",
   "metadata": {
    "lines_to_next_cell": 2
   },
   "source": [
    "# Task 7: Which of the two machine learning procedures provides the highest prediction accuracy on the test set?"
   ]
  },
  {
   "cell_type": "markdown",
   "id": "ea232709",
   "metadata": {},
   "source": [
    "##Start of Answer 7"
   ]
  },
  {
   "cell_type": "markdown",
   "source": [
    "# Naive Bayes Classifier"
   ],
   "metadata": {
    "collapsed": false
   }
  },
  {
   "cell_type": "markdown",
   "source": [
    "The accuracy of the model is 55.4%.\n",
    "The precision for the class 1 is 0.594, precision for class 2 is 0.439, precision for class 3 is 0.526 and precision for class 4 is 0.608.\n",
    "The recall for the class 1 is 0.634, recall for class 2 is 0.389, recall for class 3 is 0.334 and recall for class 4 is 0.857.\n",
    "The f1-score for the class 1 is 0.613, f1-score for class 2 is 0.412, f1-score for class 3 is 0.408 and f1-score for class 4 is 0.712."
   ],
   "metadata": {
    "collapsed": false
   }
  },
  {
   "cell_type": "markdown",
   "source": [
    "# KNN Classifier"
   ],
   "metadata": {
    "collapsed": false
   }
  },
  {
   "cell_type": "markdown",
   "source": [
    "The overall accuracy is 78.5%. This means that the model can correctly classify 78.5% of the images into their respective classes.\n",
    "\n",
    "The confusion matrix gives us insight on how well the model is performing for each class. For example, for class 1, the model correctly classified 88.8% of the images, while for class 4 it correctly classified 83.6%.\n",
    "\n",
    "The classification report also provides further insights into how well the model is performing. For example, the precision scores indicate how many of the images classified as a particular class were actually that class. The recall scores indicate the proportion of actual images of a class that were correctly classified. The f1-score is a combination of precision and recall.\n",
    "\n",
    "Overall, the model is performing reasonably well with an accuracy score of 78.5%. This could be improved by using more data or by using different model architectures."
   ],
   "metadata": {
    "collapsed": false
   }
  },
  {
   "cell_type": "markdown",
   "source": [
    "# Comparison"
   ],
   "metadata": {
    "collapsed": false
   }
  },
  {
   "cell_type": "markdown",
   "source": [
    "Between the two machine learning procedures It's clear the KNN  Classifier had a higher and better prediction accuracy on the test set. This is based mainly off the vast difference in the accuracy score. The Naive Bayes Classifier came in with a 55.4% accuracy score where as the KNN model had a much better score of 78.5%.\n"
   ],
   "metadata": {
    "collapsed": false
   }
  },
  {
   "cell_type": "markdown",
   "id": "1f26f048",
   "metadata": {},
   "source": [
    "##End of Answer 7##"
   ]
  }
 ],
 "metadata": {
  "kernelspec": {
   "display_name": "Python 3 (ipykernel)",
   "language": "python",
   "name": "python3"
  },
  "language_info": {
   "codemirror_mode": {
    "name": "ipython",
    "version": 3
   },
   "file_extension": ".py",
   "mimetype": "text/x-python",
   "name": "python",
   "nbconvert_exporter": "python",
   "pygments_lexer": "ipython3",
   "version": "3.9.7"
  }
 },
 "nbformat": 4,
 "nbformat_minor": 5
}
